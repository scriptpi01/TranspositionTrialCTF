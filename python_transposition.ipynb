{
 "cells": [
  {
   "cell_type": "code",
   "execution_count": 2,
   "metadata": {},
   "outputs": [
    {
     "name": "stdout",
     "output_type": "stream",
     "text": [
      "The flag is picoCTF{7R4N5P051N6_15_3XP3N51V3_56E6924A}\n"
     ]
    }
   ],
   "source": [
    "#Python\n",
    "cipher = list('heTfl g as iicpCTo{7F4NRP051N5_16_35P3X51N3_V6E5926A}4')\n",
    "flag = []\n",
    "for i in range(0, len(cipher), 3): \n",
    "    flag.append(cipher[i+2]) \n",
    "    flag.append(cipher[i])\n",
    "    flag.append(cipher[i+1])\n",
    "print(''.join(flag))"
   ]
  },
  {
   "cell_type": "code",
   "execution_count": 3,
   "metadata": {},
   "outputs": [
    {
     "name": "stdout",
     "output_type": "stream",
     "text": [
      "picoCTF{7R4N5P051N6_15_3XP3N51V3_109AB02E}\n"
     ]
    }
   ],
   "source": [
    "#Python\n",
    "cipher = \"heTfl g as iicpCTo{7F4NRP051N5_16_35P3X51N3_V6E5926A}4\"\n",
    "flag = \"\"\n",
    "for i in range(12, len(cipher),3):\n",
    "    temp = cipher[i:i+3]\n",
    "    flag += temp[2] + temp[0:2]\n",
    "print(flag)"
   ]
  },
  {
   "cell_type": "code",
   "execution_count": 15,
   "metadata": {},
   "outputs": [
    {
     "name": "stdout",
     "output_type": "stream",
     "text": [
      "h\n"
     ]
    }
   ],
   "source": [
    "cipher = list('heTfl g as iicpCTo{7F4NRP051N5_16_35P3X51N3_V6E5926A}4')\n",
    "print(cipher[0])"
   ]
  },
  {
   "cell_type": "code",
   "execution_count": 12,
   "metadata": {},
   "outputs": [
    {
     "name": "stdout",
     "output_type": "stream",
     "text": [
      "xbc\n"
     ]
    }
   ],
   "source": [
    "a = ['a','b','c']\n",
    "a.insert(0,'x')\n",
    "a.remove(a[1])\n",
    "print(''.join(a))"
   ]
  }
 ],
 "metadata": {
  "kernelspec": {
   "display_name": "Python 3.10.5 64-bit",
   "language": "python",
   "name": "python3"
  },
  "language_info": {
   "codemirror_mode": {
    "name": "ipython",
    "version": 3
   },
   "file_extension": ".py",
   "mimetype": "text/x-python",
   "name": "python",
   "nbconvert_exporter": "python",
   "pygments_lexer": "ipython3",
   "version": "3.10.5"
  },
  "orig_nbformat": 4,
  "vscode": {
   "interpreter": {
    "hash": "119facaad56cb385ecbcbd1c31cce708ea4f256ddea7c70d4ee2dfba5571559e"
   }
  }
 },
 "nbformat": 4,
 "nbformat_minor": 2
}
